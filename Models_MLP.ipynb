{
 "cells": [
  {
   "cell_type": "markdown",
   "id": "6fa0379a",
   "metadata": {},
   "source": [
    "# Importing Lib's"
   ]
  },
  {
   "cell_type": "code",
   "execution_count": 31,
   "id": "9f6c9c73",
   "metadata": {},
   "outputs": [],
   "source": [
    "import numpy as np\n",
    "import pandas as pd\n",
    "import scipy.io as sio\n",
    "import seaborn as sns\n",
    "import matplotlib.pyplot as plt\n",
    "from sklearn.preprocessing import StandardScaler, MinMaxScaler\n",
    "from sklearn.model_selection import StratifiedKFold, train_test_split, GridSearchCV\n",
    "from sklearn.metrics import classification_report, confusion_matrix \n",
    "from sklearn.metrics import ConfusionMatrixDisplay, roc_curve\n",
    "from sklearn.pipeline import Pipeline"
   ]
  },
  {
   "cell_type": "code",
   "execution_count": 32,
   "id": "dc969371",
   "metadata": {},
   "outputs": [],
   "source": [
    "rng = np.random.RandomState(123)"
   ]
  },
  {
   "cell_type": "markdown",
   "id": "a93eaa93",
   "metadata": {},
   "source": [
    "# Importing Data"
   ]
  },
  {
   "cell_type": "code",
   "execution_count": 33,
   "id": "c468a0ab",
   "metadata": {},
   "outputs": [],
   "source": [
    "features = pd.read_csv('data.csv')\n",
    "gt = sio.loadmat('Pavia_gt.mat')"
   ]
  },
  {
   "cell_type": "code",
   "execution_count": 34,
   "id": "b02c7130",
   "metadata": {},
   "outputs": [
    {
     "data": {
      "text/plain": [
       "((103417, 13), (103417,))"
      ]
     },
     "execution_count": 34,
     "metadata": {},
     "output_type": "execute_result"
    }
   ],
   "source": [
    "labels = gt['pavia_gt']\n",
    "y = labels[:,226:].ravel()\n",
    "y = y[y!=0]\n",
    "features.shape, y.shape"
   ]
  },
  {
   "cell_type": "code",
   "execution_count": 35,
   "id": "45582dfa",
   "metadata": {},
   "outputs": [],
   "source": [
    "labels_names =['Water', 'Trees', 'Asphalt', 'Self-Blocking Bricks', 'Bitumen', \n",
    "               'Tiles', 'Shadows', 'Meadows', 'Bare Soil']"
   ]
  },
  {
   "cell_type": "markdown",
   "id": "35ce7c40",
   "metadata": {},
   "source": [
    "# Some Exploration"
   ]
  },
  {
   "cell_type": "code",
   "execution_count": 36,
   "id": "9040f179",
   "metadata": {},
   "outputs": [
    {
     "data": {
      "text/html": [
       "<div>\n",
       "<style scoped>\n",
       "    .dataframe tbody tr th:only-of-type {\n",
       "        vertical-align: middle;\n",
       "    }\n",
       "\n",
       "    .dataframe tbody tr th {\n",
       "        vertical-align: top;\n",
       "    }\n",
       "\n",
       "    .dataframe thead th {\n",
       "        text-align: right;\n",
       "    }\n",
       "</style>\n",
       "<table border=\"1\" class=\"dataframe\">\n",
       "  <thead>\n",
       "    <tr style=\"text-align: right;\">\n",
       "      <th></th>\n",
       "      <th>mean</th>\n",
       "      <th>std</th>\n",
       "      <th>variance</th>\n",
       "      <th>skew</th>\n",
       "      <th>kurtosis</th>\n",
       "      <th>q25</th>\n",
       "      <th>q75</th>\n",
       "      <th>low</th>\n",
       "      <th>peak</th>\n",
       "      <th>iqr</th>\n",
       "      <th>pwr_mean</th>\n",
       "      <th>pwr_entr</th>\n",
       "      <th>rms</th>\n",
       "    </tr>\n",
       "  </thead>\n",
       "  <tbody>\n",
       "    <tr>\n",
       "      <th>0</th>\n",
       "      <td>833.558824</td>\n",
       "      <td>45.282463</td>\n",
       "      <td>2070.803436</td>\n",
       "      <td>-1.271379</td>\n",
       "      <td>1.243844</td>\n",
       "      <td>805.75</td>\n",
       "      <td>862.75</td>\n",
       "      <td>685</td>\n",
       "      <td>891</td>\n",
       "      <td>57.0</td>\n",
       "      <td>4022.1372</td>\n",
       "      <td>1.524930</td>\n",
       "      <td>374.76944</td>\n",
       "    </tr>\n",
       "    <tr>\n",
       "      <th>1</th>\n",
       "      <td>817.598039</td>\n",
       "      <td>124.408188</td>\n",
       "      <td>15630.638808</td>\n",
       "      <td>-3.295761</td>\n",
       "      <td>13.253635</td>\n",
       "      <td>798.25</td>\n",
       "      <td>885.75</td>\n",
       "      <td>131</td>\n",
       "      <td>938</td>\n",
       "      <td>87.5</td>\n",
       "      <td>30359.5100</td>\n",
       "      <td>2.490841</td>\n",
       "      <td>834.96515</td>\n",
       "    </tr>\n",
       "    <tr>\n",
       "      <th>2</th>\n",
       "      <td>848.843137</td>\n",
       "      <td>89.595906</td>\n",
       "      <td>8106.905844</td>\n",
       "      <td>-2.115042</td>\n",
       "      <td>4.541311</td>\n",
       "      <td>826.50</td>\n",
       "      <td>903.00</td>\n",
       "      <td>493</td>\n",
       "      <td>943</td>\n",
       "      <td>76.5</td>\n",
       "      <td>15746.1050</td>\n",
       "      <td>2.156564</td>\n",
       "      <td>636.14780</td>\n",
       "    </tr>\n",
       "    <tr>\n",
       "      <th>3</th>\n",
       "      <td>958.225490</td>\n",
       "      <td>145.418187</td>\n",
       "      <td>21355.819938</td>\n",
       "      <td>-1.071936</td>\n",
       "      <td>0.219539</td>\n",
       "      <td>871.25</td>\n",
       "      <td>1066.75</td>\n",
       "      <td>579</td>\n",
       "      <td>1114</td>\n",
       "      <td>195.5</td>\n",
       "      <td>41479.5700</td>\n",
       "      <td>1.430939</td>\n",
       "      <td>1174.54440</td>\n",
       "    </tr>\n",
       "    <tr>\n",
       "      <th>4</th>\n",
       "      <td>1115.843137</td>\n",
       "      <td>150.532567</td>\n",
       "      <td>22884.410794</td>\n",
       "      <td>-0.880666</td>\n",
       "      <td>0.257709</td>\n",
       "      <td>1031.50</td>\n",
       "      <td>1245.50</td>\n",
       "      <td>685</td>\n",
       "      <td>1308</td>\n",
       "      <td>214.0</td>\n",
       "      <td>44448.5660</td>\n",
       "      <td>1.801792</td>\n",
       "      <td>1115.11700</td>\n",
       "    </tr>\n",
       "  </tbody>\n",
       "</table>\n",
       "</div>"
      ],
      "text/plain": [
       "          mean         std      variance      skew   kurtosis      q25  \\\n",
       "0   833.558824   45.282463   2070.803436 -1.271379   1.243844   805.75   \n",
       "1   817.598039  124.408188  15630.638808 -3.295761  13.253635   798.25   \n",
       "2   848.843137   89.595906   8106.905844 -2.115042   4.541311   826.50   \n",
       "3   958.225490  145.418187  21355.819938 -1.071936   0.219539   871.25   \n",
       "4  1115.843137  150.532567  22884.410794 -0.880666   0.257709  1031.50   \n",
       "\n",
       "       q75  low  peak    iqr    pwr_mean  pwr_entr         rms  \n",
       "0   862.75  685   891   57.0   4022.1372  1.524930   374.76944  \n",
       "1   885.75  131   938   87.5  30359.5100  2.490841   834.96515  \n",
       "2   903.00  493   943   76.5  15746.1050  2.156564   636.14780  \n",
       "3  1066.75  579  1114  195.5  41479.5700  1.430939  1174.54440  \n",
       "4  1245.50  685  1308  214.0  44448.5660  1.801792  1115.11700  "
      ]
     },
     "execution_count": 36,
     "metadata": {},
     "output_type": "execute_result"
    }
   ],
   "source": [
    "features.head()"
   ]
  },
  {
   "cell_type": "code",
   "execution_count": 37,
   "id": "c6cac38c",
   "metadata": {},
   "outputs": [
    {
     "name": "stdout",
     "output_type": "stream",
     "text": [
      "<class 'pandas.core.frame.DataFrame'>\n",
      "RangeIndex: 103417 entries, 0 to 103416\n",
      "Data columns (total 13 columns):\n",
      " #   Column    Non-Null Count   Dtype  \n",
      "---  ------    --------------   -----  \n",
      " 0   mean      103417 non-null  float64\n",
      " 1   std       103417 non-null  float64\n",
      " 2   variance  103417 non-null  float64\n",
      " 3   skew      103417 non-null  float64\n",
      " 4   kurtosis  103417 non-null  float64\n",
      " 5   q25       103417 non-null  float64\n",
      " 6   q75       103417 non-null  float64\n",
      " 7   low       103417 non-null  int64  \n",
      " 8   peak      103417 non-null  int64  \n",
      " 9   iqr       103417 non-null  float64\n",
      " 10  pwr_mean  103417 non-null  float64\n",
      " 11  pwr_entr  103417 non-null  float64\n",
      " 12  rms       103417 non-null  float64\n",
      "dtypes: float64(11), int64(2)\n",
      "memory usage: 10.3 MB\n"
     ]
    }
   ],
   "source": [
    "features.info()"
   ]
  },
  {
   "cell_type": "code",
   "execution_count": 38,
   "id": "02899d7b",
   "metadata": {},
   "outputs": [
    {
     "name": "stdout",
     "output_type": "stream",
     "text": [
      "Number of classes:  9\n"
     ]
    }
   ],
   "source": [
    "print(\"Number of classes: \", len(np.unique(y)))"
   ]
  },
  {
   "cell_type": "code",
   "execution_count": 39,
   "id": "d7bb969d",
   "metadata": {},
   "outputs": [
    {
     "name": "stdout",
     "output_type": "stream",
     "text": [
      "Total per class:\n",
      "\n",
      "Water = 65278\n",
      "Trees = 6503\n",
      "Asphalt = 2880\n",
      "Self-Blocking Bricks = 2140\n",
      "Bitumen = 6549\n",
      "Tiles = 7493\n",
      "Shadows = 7287\n",
      "Meadows = 3122\n",
      "Bare Soil = 2165\n"
     ]
    }
   ],
   "source": [
    "print('Total per class:\\n')\n",
    "for i in range(1,10):\n",
    "    print(labels_names[i-1]+' = '+str(np.sum(y==i)))"
   ]
  },
  {
   "cell_type": "markdown",
   "id": "90b272d1",
   "metadata": {},
   "source": [
    "### Feature dataset to numpy matrix "
   ]
  },
  {
   "cell_type": "code",
   "execution_count": 40,
   "id": "9941b4e1",
   "metadata": {},
   "outputs": [],
   "source": [
    "X = features.to_numpy()"
   ]
  },
  {
   "cell_type": "code",
   "execution_count": 41,
   "id": "227ac1e0",
   "metadata": {},
   "outputs": [
    {
     "data": {
      "text/plain": [
       "(103417, 13)"
      ]
     },
     "execution_count": 41,
     "metadata": {},
     "output_type": "execute_result"
    }
   ],
   "source": [
    "X.shape"
   ]
  },
  {
   "cell_type": "markdown",
   "id": "7282711a",
   "metadata": {},
   "source": [
    "# Applying Models"
   ]
  },
  {
   "cell_type": "code",
   "execution_count": 42,
   "id": "8d0d9353",
   "metadata": {},
   "outputs": [],
   "source": [
    "# importing metrics \n",
    "from sklearn.metrics import roc_auc_score, f1_score, confusion_matrix, accuracy_score"
   ]
  },
  {
   "cell_type": "markdown",
   "id": "63964520",
   "metadata": {},
   "source": [
    "## MLP"
   ]
  },
  {
   "cell_type": "code",
   "execution_count": 47,
   "id": "760064e6",
   "metadata": {},
   "outputs": [],
   "source": [
    "from sklearn.neural_network import MLPClassifier\n",
    "from sklearn.svm import SVC\n",
    "# explicitly require this experimental feature\n",
    "from sklearn.experimental import enable_halving_search_cv # noqa\n",
    "# now you can import normally from model_selection\n",
    "from sklearn.model_selection import HalvingGridSearchCV"
   ]
  },
  {
   "cell_type": "code",
   "execution_count": 48,
   "id": "3ce62079",
   "metadata": {},
   "outputs": [],
   "source": [
    "new_scaler = MinMaxScaler()"
   ]
  },
  {
   "cell_type": "code",
   "execution_count": 49,
   "id": "bf340e00",
   "metadata": {},
   "outputs": [],
   "source": [
    "MLP_pipe = Pipeline([(\"scaler\", MinMaxScaler()),\n",
    "                    (\"clf\", MLPClassifier(random_state=rng))]) "
   ]
  },
  {
   "cell_type": "code",
   "execution_count": 51,
   "id": "7731d932",
   "metadata": {},
   "outputs": [
    {
     "name": "stderr",
     "output_type": "stream",
     "text": [
      "C:\\Users\\jse_z\\anaconda3\\lib\\site-packages\\sklearn\\neural_network\\_multilayer_perceptron.py:692: ConvergenceWarning: Stochastic Optimizer: Maximum iterations (200) reached and the optimization hasn't converged yet.\n",
      "  warnings.warn(\n",
      "C:\\Users\\jse_z\\anaconda3\\lib\\site-packages\\sklearn\\neural_network\\_multilayer_perceptron.py:692: ConvergenceWarning: Stochastic Optimizer: Maximum iterations (200) reached and the optimization hasn't converged yet.\n",
      "  warnings.warn(\n",
      "C:\\Users\\jse_z\\anaconda3\\lib\\site-packages\\sklearn\\neural_network\\_multilayer_perceptron.py:692: ConvergenceWarning: Stochastic Optimizer: Maximum iterations (200) reached and the optimization hasn't converged yet.\n",
      "  warnings.warn(\n",
      "C:\\Users\\jse_z\\anaconda3\\lib\\site-packages\\sklearn\\neural_network\\_multilayer_perceptron.py:692: ConvergenceWarning: Stochastic Optimizer: Maximum iterations (200) reached and the optimization hasn't converged yet.\n",
      "  warnings.warn(\n",
      "C:\\Users\\jse_z\\anaconda3\\lib\\site-packages\\sklearn\\neural_network\\_multilayer_perceptron.py:692: ConvergenceWarning: Stochastic Optimizer: Maximum iterations (200) reached and the optimization hasn't converged yet.\n",
      "  warnings.warn(\n",
      "C:\\Users\\jse_z\\anaconda3\\lib\\site-packages\\sklearn\\neural_network\\_multilayer_perceptron.py:692: ConvergenceWarning: Stochastic Optimizer: Maximum iterations (200) reached and the optimization hasn't converged yet.\n",
      "  warnings.warn(\n",
      "C:\\Users\\jse_z\\anaconda3\\lib\\site-packages\\sklearn\\neural_network\\_multilayer_perceptron.py:692: ConvergenceWarning: Stochastic Optimizer: Maximum iterations (200) reached and the optimization hasn't converged yet.\n",
      "  warnings.warn(\n",
      "C:\\Users\\jse_z\\anaconda3\\lib\\site-packages\\sklearn\\neural_network\\_multilayer_perceptron.py:692: ConvergenceWarning: Stochastic Optimizer: Maximum iterations (200) reached and the optimization hasn't converged yet.\n",
      "  warnings.warn(\n",
      "C:\\Users\\jse_z\\anaconda3\\lib\\site-packages\\sklearn\\neural_network\\_multilayer_perceptron.py:692: ConvergenceWarning: Stochastic Optimizer: Maximum iterations (200) reached and the optimization hasn't converged yet.\n",
      "  warnings.warn(\n"
     ]
    },
    {
     "name": "stdout",
     "output_type": "stream",
     "text": [
      "Wall time: 2h 4min 37s\n"
     ]
    },
    {
     "name": "stderr",
     "output_type": "stream",
     "text": [
      "C:\\Users\\jse_z\\anaconda3\\lib\\site-packages\\sklearn\\neural_network\\_multilayer_perceptron.py:692: ConvergenceWarning: Stochastic Optimizer: Maximum iterations (200) reached and the optimization hasn't converged yet.\n",
      "  warnings.warn(\n"
     ]
    }
   ],
   "source": [
    "%%time\n",
    "# configure the cross-validation procedure\n",
    "cv_outer = StratifiedKFold(n_splits=10, shuffle=True, random_state=rng)\n",
    "\n",
    "# metrics list\n",
    "mlp_acc = []\n",
    "mlp_F1_score = []\n",
    "mlp_roc_auc = []\n",
    "mlp_conf_matrix_list = []\n",
    "\n",
    "for train_ix, test_ix in cv_outer.split(X, y):\n",
    "    # split data\n",
    "\n",
    "    X_train, X_test = X[train_ix], X[test_ix]\n",
    "    y_train, y_test = y[train_ix], y[test_ix]\n",
    "    # configure the cross-validation procedure\n",
    "    cv_inner = StratifiedKFold(n_splits=5, shuffle=True, random_state=rng)\n",
    "\n",
    "    # define search space\n",
    "    param_grid = {'clf__hidden_layer_sizes': [(25, 2),(15, 2)],\n",
    "                  'clf__activation': ['tanh', 'relu'],\n",
    "                  'clf__solver': ['sgd', 'adam'],\n",
    "                  'clf__alpha': [0.0001, 0.05],\n",
    "                  }\n",
    "\n",
    "    # define search\n",
    "    MLP_gs = GridSearchCV(MLP_pipe, param_grid, cv=cv_inner, n_jobs=-1)\n",
    "    \n",
    "    # execute search\n",
    "    MLP_gs.fit(X_train, y_train)\n",
    "    \n",
    "    # get the best performing model fit on the whole training set\n",
    "    best_model = MLP_gs.best_estimator_\n",
    "    # evaluate model on the test set\n",
    "    yhat = best_model.predict(X_test)\n",
    "    conf_matrix = confusion_matrix(y_test, yhat)\n",
    "    \n",
    "    # store the result\n",
    "    mlp_acc.append(accuracy_score(y_test, yhat))\n",
    "    mlp_F1_score.append(f1_score(y_test, yhat, average='micro'))\n",
    "    mlp_roc_auc.append(roc_auc_score(y_test, best_model.predict_proba(X_test), multi_class='ovr'))\n",
    "    mlp_conf_matrix_list.append(conf_matrix) "
   ]
  },
  {
   "cell_type": "code",
   "execution_count": 52,
   "id": "f98769cb",
   "metadata": {},
   "outputs": [
    {
     "name": "stdout",
     "output_type": "stream",
     "text": [
      "Mean accuracy: 0.9636423429998565\n",
      "Mean F1_score: 0.9636423429998565\n",
      "Mean Roc AUC: 0.9975613929522\n"
     ]
    }
   ],
   "source": [
    "print('Mean accuracy:', np.mean(mlp_acc))\n",
    "print('Mean F1_score:', np.mean(mlp_F1_score))\n",
    "print('Mean Roc AUC:', np.mean(mlp_roc_auc))"
   ]
  },
  {
   "cell_type": "code",
   "execution_count": 53,
   "id": "54e8979d",
   "metadata": {},
   "outputs": [],
   "source": [
    "mean_mlpcm = np.mean(mlp_conf_matrix_list, axis = 0)"
   ]
  },
  {
   "cell_type": "code",
   "execution_count": 54,
   "id": "9262bbd7",
   "metadata": {},
   "outputs": [
    {
     "data": {
      "image/png": "[encoded data removed]",
      "text/plain": [
       "<Figure size 576x360 with 2 Axes>"
      ]
     },
     "metadata": {
      "needs_background": "light"
     },
     "output_type": "display_data"
    }
   ],
   "source": [
    "plt.figure(figsize = (8,5))\n",
    "sns.heatmap(mean_mlpcm, annot=True, fmt=\".0f\", cmap ='Greys',xticklabels=labels_names, yticklabels=labels_names,\n",
    "           linecolor='k', linewidths=.3)\n",
    "plt.xticks(rotation=65);"
   ]
  }
 ],
 "metadata": {
  "kernelspec": {
   "display_name": "Python 3 (ipykernel)",
   "language": "python",
   "name": "python3"
  },
  "language_info": {
   "codemirror_mode": {
    "name": "ipython",
    "version": 3
   },
   "file_extension": ".py",
   "mimetype": "text/x-python",
   "name": "python",
   "nbconvert_exporter": "python",
   "pygments_lexer": "ipython3",
   "version": "3.8.8"
  }
 },
 "nbformat": 4,
 "nbformat_minor": 5
}
