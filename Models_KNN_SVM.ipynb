{
 "cells": [
  {
   "cell_type": "markdown",
   "id": "6fa0379a",
   "metadata": {},
   "source": [
    "# Importing Lib's"
   ]
  },
  {
   "cell_type": "code",
   "execution_count": 53,
   "id": "9f6c9c73",
   "metadata": {},
   "outputs": [],
   "source": [
    "import numpy as np\n",
    "import pandas as pd\n",
    "import scipy.io as sio\n",
    "import seaborn as sns\n",
    "import matplotlib.pyplot as plt\n",
    "from sklearn.preprocessing import StandardScaler, MinMaxScaler\n",
    "from sklearn.model_selection import StratifiedKFold, train_test_split, GridSearchCV\n",
    "from sklearn.metrics import classification_report, confusion_matrix \n",
    "from sklearn.metrics import ConfusionMatrixDisplay, roc_curve\n",
    "from sklearn.pipeline import Pipeline"
   ]
  },
  {
   "cell_type": "code",
   "execution_count": 54,
   "id": "dc969371",
   "metadata": {},
   "outputs": [],
   "source": [
    "rng = np.random.RandomState(123)"
   ]
  },
  {
   "cell_type": "markdown",
   "id": "a93eaa93",
   "metadata": {},
   "source": [
    "# Importing Data"
   ]
  },
  {
   "cell_type": "code",
   "execution_count": 55,
   "id": "c468a0ab",
   "metadata": {},
   "outputs": [],
   "source": [
    "features = pd.read_csv('data.csv')\n",
    "gt = sio.loadmat('Pavia_gt.mat')"
   ]
  },
  {
   "cell_type": "code",
   "execution_count": 56,
   "id": "b02c7130",
   "metadata": {},
   "outputs": [
    {
     "data": {
      "text/plain": [
       "((103417, 13), (103417,))"
      ]
     },
     "execution_count": 56,
     "metadata": {},
     "output_type": "execute_result"
    }
   ],
   "source": [
    "labels = gt['pavia_gt']\n",
    "y = labels[:,226:].ravel()\n",
    "y = y[y!=0]\n",
    "features.shape, y.shape"
   ]
  },
  {
   "cell_type": "code",
   "execution_count": 57,
   "id": "45582dfa",
   "metadata": {},
   "outputs": [],
   "source": [
    "labels_names =['Water', 'Trees', 'Asphalt', 'Self-Blocking Bricks', 'Bitumen', \n",
    "               'Tiles', 'Shadows', 'Meadows', 'Bare Soil']"
   ]
  },
  {
   "cell_type": "markdown",
   "id": "35ce7c40",
   "metadata": {},
   "source": [
    "# Some Exploration"
   ]
  },
  {
   "cell_type": "code",
   "execution_count": 58,
   "id": "9040f179",
   "metadata": {},
   "outputs": [
    {
     "data": {
      "text/html": [
       "<div>\n",
       "<style scoped>\n",
       "    .dataframe tbody tr th:only-of-type {\n",
       "        vertical-align: middle;\n",
       "    }\n",
       "\n",
       "    .dataframe tbody tr th {\n",
       "        vertical-align: top;\n",
       "    }\n",
       "\n",
       "    .dataframe thead th {\n",
       "        text-align: right;\n",
       "    }\n",
       "</style>\n",
       "<table border=\"1\" class=\"dataframe\">\n",
       "  <thead>\n",
       "    <tr style=\"text-align: right;\">\n",
       "      <th></th>\n",
       "      <th>mean</th>\n",
       "      <th>std</th>\n",
       "      <th>variance</th>\n",
       "      <th>skew</th>\n",
       "      <th>kurtosis</th>\n",
       "      <th>q25</th>\n",
       "      <th>q75</th>\n",
       "      <th>low</th>\n",
       "      <th>peak</th>\n",
       "      <th>iqr</th>\n",
       "      <th>pwr_mean</th>\n",
       "      <th>pwr_entr</th>\n",
       "      <th>rms</th>\n",
       "    </tr>\n",
       "  </thead>\n",
       "  <tbody>\n",
       "    <tr>\n",
       "      <th>0</th>\n",
       "      <td>833.558824</td>\n",
       "      <td>45.282463</td>\n",
       "      <td>2070.803436</td>\n",
       "      <td>-1.271379</td>\n",
       "      <td>1.243844</td>\n",
       "      <td>805.75</td>\n",
       "      <td>862.75</td>\n",
       "      <td>685</td>\n",
       "      <td>891</td>\n",
       "      <td>57.0</td>\n",
       "      <td>4022.1372</td>\n",
       "      <td>1.524930</td>\n",
       "      <td>374.76944</td>\n",
       "    </tr>\n",
       "    <tr>\n",
       "      <th>1</th>\n",
       "      <td>817.598039</td>\n",
       "      <td>124.408188</td>\n",
       "      <td>15630.638808</td>\n",
       "      <td>-3.295761</td>\n",
       "      <td>13.253635</td>\n",
       "      <td>798.25</td>\n",
       "      <td>885.75</td>\n",
       "      <td>131</td>\n",
       "      <td>938</td>\n",
       "      <td>87.5</td>\n",
       "      <td>30359.5100</td>\n",
       "      <td>2.490841</td>\n",
       "      <td>834.96515</td>\n",
       "    </tr>\n",
       "    <tr>\n",
       "      <th>2</th>\n",
       "      <td>848.843137</td>\n",
       "      <td>89.595906</td>\n",
       "      <td>8106.905844</td>\n",
       "      <td>-2.115042</td>\n",
       "      <td>4.541311</td>\n",
       "      <td>826.50</td>\n",
       "      <td>903.00</td>\n",
       "      <td>493</td>\n",
       "      <td>943</td>\n",
       "      <td>76.5</td>\n",
       "      <td>15746.1050</td>\n",
       "      <td>2.156564</td>\n",
       "      <td>636.14780</td>\n",
       "    </tr>\n",
       "    <tr>\n",
       "      <th>3</th>\n",
       "      <td>958.225490</td>\n",
       "      <td>145.418187</td>\n",
       "      <td>21355.819938</td>\n",
       "      <td>-1.071936</td>\n",
       "      <td>0.219539</td>\n",
       "      <td>871.25</td>\n",
       "      <td>1066.75</td>\n",
       "      <td>579</td>\n",
       "      <td>1114</td>\n",
       "      <td>195.5</td>\n",
       "      <td>41479.5700</td>\n",
       "      <td>1.430939</td>\n",
       "      <td>1174.54440</td>\n",
       "    </tr>\n",
       "    <tr>\n",
       "      <th>4</th>\n",
       "      <td>1115.843137</td>\n",
       "      <td>150.532567</td>\n",
       "      <td>22884.410794</td>\n",
       "      <td>-0.880666</td>\n",
       "      <td>0.257709</td>\n",
       "      <td>1031.50</td>\n",
       "      <td>1245.50</td>\n",
       "      <td>685</td>\n",
       "      <td>1308</td>\n",
       "      <td>214.0</td>\n",
       "      <td>44448.5660</td>\n",
       "      <td>1.801792</td>\n",
       "      <td>1115.11700</td>\n",
       "    </tr>\n",
       "  </tbody>\n",
       "</table>\n",
       "</div>"
      ],
      "text/plain": [
       "          mean         std      variance      skew   kurtosis      q25  \\\n",
       "0   833.558824   45.282463   2070.803436 -1.271379   1.243844   805.75   \n",
       "1   817.598039  124.408188  15630.638808 -3.295761  13.253635   798.25   \n",
       "2   848.843137   89.595906   8106.905844 -2.115042   4.541311   826.50   \n",
       "3   958.225490  145.418187  21355.819938 -1.071936   0.219539   871.25   \n",
       "4  1115.843137  150.532567  22884.410794 -0.880666   0.257709  1031.50   \n",
       "\n",
       "       q75  low  peak    iqr    pwr_mean  pwr_entr         rms  \n",
       "0   862.75  685   891   57.0   4022.1372  1.524930   374.76944  \n",
       "1   885.75  131   938   87.5  30359.5100  2.490841   834.96515  \n",
       "2   903.00  493   943   76.5  15746.1050  2.156564   636.14780  \n",
       "3  1066.75  579  1114  195.5  41479.5700  1.430939  1174.54440  \n",
       "4  1245.50  685  1308  214.0  44448.5660  1.801792  1115.11700  "
      ]
     },
     "execution_count": 58,
     "metadata": {},
     "output_type": "execute_result"
    }
   ],
   "source": [
    "features.head()"
   ]
  },
  {
   "cell_type": "code",
   "execution_count": 59,
   "id": "c6cac38c",
   "metadata": {},
   "outputs": [
    {
     "name": "stdout",
     "output_type": "stream",
     "text": [
      "<class 'pandas.core.frame.DataFrame'>\n",
      "RangeIndex: 103417 entries, 0 to 103416\n",
      "Data columns (total 13 columns):\n",
      " #   Column    Non-Null Count   Dtype  \n",
      "---  ------    --------------   -----  \n",
      " 0   mean      103417 non-null  float64\n",
      " 1   std       103417 non-null  float64\n",
      " 2   variance  103417 non-null  float64\n",
      " 3   skew      103417 non-null  float64\n",
      " 4   kurtosis  103417 non-null  float64\n",
      " 5   q25       103417 non-null  float64\n",
      " 6   q75       103417 non-null  float64\n",
      " 7   low       103417 non-null  int64  \n",
      " 8   peak      103417 non-null  int64  \n",
      " 9   iqr       103417 non-null  float64\n",
      " 10  pwr_mean  103417 non-null  float64\n",
      " 11  pwr_entr  103417 non-null  float64\n",
      " 12  rms       103417 non-null  float64\n",
      "dtypes: float64(11), int64(2)\n",
      "memory usage: 10.3 MB\n"
     ]
    }
   ],
   "source": [
    "features.info()"
   ]
  },
  {
   "cell_type": "code",
   "execution_count": 60,
   "id": "13c784bb",
   "metadata": {},
   "outputs": [
    {
     "name": "stdout",
     "output_type": "stream",
     "text": [
      "Number of classes:  9\n"
     ]
    }
   ],
   "source": [
    "print(\"Number of classes: \", len(np.unique(y)))"
   ]
  },
  {
   "cell_type": "code",
   "execution_count": 61,
   "id": "d7bb969d",
   "metadata": {},
   "outputs": [
    {
     "name": "stdout",
     "output_type": "stream",
     "text": [
      "Total per class:\n",
      "\n",
      "Water = 65278\n",
      "Trees = 6503\n",
      "Asphalt = 2880\n",
      "Self-Blocking Bricks = 2140\n",
      "Bitumen = 6549\n",
      "Tiles = 7493\n",
      "Shadows = 7287\n",
      "Meadows = 3122\n",
      "Bare Soil = 2165\n"
     ]
    }
   ],
   "source": [
    "print('Total per class:\\n')\n",
    "for i in range(1,10):\n",
    "    print(labels_names[i-1]+' = '+str(np.sum(y==i)))"
   ]
  },
  {
   "cell_type": "markdown",
   "id": "90b272d1",
   "metadata": {},
   "source": [
    "### Feature dataset to numpy matrix "
   ]
  },
  {
   "cell_type": "code",
   "execution_count": 62,
   "id": "9941b4e1",
   "metadata": {},
   "outputs": [],
   "source": [
    "X = features.to_numpy()"
   ]
  },
  {
   "cell_type": "code",
   "execution_count": 63,
   "id": "c1922d47",
   "metadata": {},
   "outputs": [
    {
     "data": {
      "text/plain": [
       "(103417, 13)"
      ]
     },
     "execution_count": 63,
     "metadata": {},
     "output_type": "execute_result"
    }
   ],
   "source": [
    "X.shape"
   ]
  },
  {
   "cell_type": "markdown",
   "id": "7282711a",
   "metadata": {},
   "source": [
    "# Applying Models"
   ]
  },
  {
   "cell_type": "code",
   "execution_count": 64,
   "id": "8d0d9353",
   "metadata": {},
   "outputs": [],
   "source": [
    "# importing metrics \n",
    "from sklearn.metrics import roc_auc_score, f1_score, confusion_matrix, accuracy_score"
   ]
  },
  {
   "cell_type": "markdown",
   "id": "cf1bbab9",
   "metadata": {},
   "source": [
    "## KNN"
   ]
  },
  {
   "cell_type": "code",
   "execution_count": 65,
   "id": "1a9b6e2c",
   "metadata": {},
   "outputs": [],
   "source": [
    "from sklearn.neighbors import KNeighborsClassifier"
   ]
  },
  {
   "cell_type": "code",
   "execution_count": 66,
   "id": "2a5fdafd",
   "metadata": {},
   "outputs": [],
   "source": [
    "knn_pipe = Pipeline([(\"scaler\", StandardScaler()),\n",
    "                    (\"clf\", KNeighborsClassifier())])                      "
   ]
  },
  {
   "cell_type": "code",
   "execution_count": 68,
   "id": "886732a1",
   "metadata": {},
   "outputs": [
    {
     "name": "stdout",
     "output_type": "stream",
     "text": [
      "Wall time: 16min 16s\n"
     ]
    }
   ],
   "source": [
    "%%time\n",
    "# configure the cross-validation procedure\n",
    "cv_outer = StratifiedKFold(n_splits=10, shuffle=True, random_state=rng)\n",
    "\n",
    "# metrics list\n",
    "knn_acc = []\n",
    "knn_F1_score = []\n",
    "knn_roc_auc = []\n",
    "knn_conf_matrix_list = []\n",
    "\n",
    "for train_ix, test_ix in cv_outer.split(X, y):\n",
    "    # split data\n",
    "\n",
    "    X_train, X_test = X[train_ix], X[test_ix]\n",
    "    y_train, y_test = y[train_ix], y[test_ix]\n",
    "    # configure the cross-validation procedure\n",
    "    cv_inner = StratifiedKFold(n_splits=5, shuffle=True, random_state=rng)\n",
    "\n",
    "    # define search space\n",
    "    param_grid = {'clf__n_neighbors':np.arange(1,12),\n",
    "                  'clf__metric': ['euclidean', 'manhattan', 'chebyshev'],\n",
    "                  'clf__weights':['uniform', 'distance']\n",
    "                  }\n",
    "\n",
    "    # define search\n",
    "    knn_gs = GridSearchCV(knn_pipe, param_grid, cv=cv_inner, n_jobs=-1)\n",
    "    \n",
    "    # execute search\n",
    "    knn_gs.fit(X_train, y_train)\n",
    "    \n",
    "    # get the best performing model fit on the whole training set\n",
    "    best_model = knn_gs.best_estimator_\n",
    "    # evaluate model on the test set\n",
    "    yhat = best_model.predict(X_test)\n",
    "    conf_matrix = confusion_matrix(y_test, yhat)\n",
    "    \n",
    "    # store the result\n",
    "    knn_acc.append(accuracy_score(y_test, yhat))\n",
    "    knn_F1_score.append(f1_score(y_test, yhat, average='micro'))\n",
    "    knn_roc_auc.append(roc_auc_score(y_test, best_model.predict_proba(X_test), multi_class='ovr'))\n",
    "    knn_conf_matrix_list.append(conf_matrix)    "
   ]
  },
  {
   "cell_type": "code",
   "execution_count": 69,
   "id": "e69440a9",
   "metadata": {},
   "outputs": [
    {
     "data": {
      "text/plain": [
       "0.9785335080522692"
      ]
     },
     "execution_count": 69,
     "metadata": {},
     "output_type": "execute_result"
    }
   ],
   "source": [
    "np.mean(knn_acc)"
   ]
  },
  {
   "cell_type": "code",
   "execution_count": 70,
   "id": "763af9aa",
   "metadata": {},
   "outputs": [
    {
     "data": {
      "text/plain": [
       "0.9785335080522692"
      ]
     },
     "execution_count": 70,
     "metadata": {},
     "output_type": "execute_result"
    }
   ],
   "source": [
    "np.mean(knn_F1_score)"
   ]
  },
  {
   "cell_type": "code",
   "execution_count": 71,
   "id": "19449b58",
   "metadata": {},
   "outputs": [
    {
     "data": {
      "text/plain": [
       "0.9942982945809069"
      ]
     },
     "execution_count": 71,
     "metadata": {},
     "output_type": "execute_result"
    }
   ],
   "source": [
    "np.mean(knn_roc_auc)"
   ]
  },
  {
   "cell_type": "code",
   "execution_count": 91,
   "id": "9bcdf5a7",
   "metadata": {},
   "outputs": [
    {
     "data": {
      "image/png": "[encoded data removed]",
      "text/plain": [
       "<Figure size 576x360 with 2 Axes>"
      ]
     },
     "metadata": {
      "needs_background": "light"
     },
     "output_type": "display_data"
    }
   ],
   "source": [
    "plt.figure(figsize = (8,5))\n",
    "sns.heatmap(mean_cm, annot=True, fmt=\".0f\", cmap ='Greys',xticklabels=labels_names, yticklabels=labels_names,\n",
    "           linecolor='k', linewidths=.3)\n",
    "plt.xticks(rotation=65);"
   ]
  },
  {
   "cell_type": "markdown",
   "id": "54311340",
   "metadata": {},
   "source": [
    "## SVM"
   ]
  },
  {
   "cell_type": "code",
   "execution_count": 82,
   "id": "b1400e44",
   "metadata": {},
   "outputs": [],
   "source": [
    "from sklearn.svm import SVC"
   ]
  },
  {
   "cell_type": "code",
   "execution_count": 85,
   "id": "be3e9337",
   "metadata": {},
   "outputs": [],
   "source": [
    "SVC_pipe = Pipeline([(\"scaler\", StandardScaler()),\n",
    "                    (\"clf\", SVC(random_state=rng, probability=True))]) "
   ]
  },
  {
   "cell_type": "code",
   "execution_count": null,
   "id": "c3295f46",
   "metadata": {},
   "outputs": [],
   "source": [
    "%%time\n",
    "# configure the cross-validation procedure\n",
    "cv_outer = StratifiedKFold(n_splits=10, shuffle=True, random_state=rng)\n",
    "\n",
    "# metrics list\n",
    "svm_acc = []\n",
    "svm_F1_score = []\n",
    "svm_roc_auc = []\n",
    "svm_conf_matrix_list = []\n",
    "\n",
    "for train_ix, test_ix in cv_outer.split(X, y):\n",
    "    # split data\n",
    "\n",
    "    X_train, X_test = X[train_ix], X[test_ix]\n",
    "    y_train, y_test = y[train_ix], y[test_ix]\n",
    "    # configure the cross-validation procedure\n",
    "    cv_inner = StratifiedKFold(n_splits=5, shuffle=True, random_state=rng)\n",
    "\n",
    "    # define search space\n",
    "    param_grid = [{\"clf__kernel\": [\"rbf\"], \"clf__gamma\": np.logspace(-5, -2, 4), \"clf__C\": [1, 10, 100, 1000]},\n",
    "                    \n",
    "                  {\"clf__kernel\": [\"linear\"], \"clf__C\": [1, 10, 100, 1000]},\n",
    "                  \n",
    "                  {\"clf__kernel\": [\"poly\"], \"clf__degree\":np.arange(3,8) ,\"clf__gamma\": np.logspace(-5, -2, 4),\n",
    "                   \"clf__C\": [1, 10, 100, 1000]}\n",
    "]\n",
    "\n",
    "    # define search\n",
    "    SVC_gs = HalvingGridSearchCV(SVC_pipe, param_grid, cv=cv_inner, n_jobs=-1)\n",
    "    \n",
    "    # execute search\n",
    "    SVC_gs.fit(X_train, y_train)\n",
    "    \n",
    "    # get the best performing model fit on the whole training set\n",
    "    best_model = SVC_gs.best_estimator_\n",
    "    # evaluate model on the test set\n",
    "    yhat = best_model.predict(X_test)\n",
    "    conf_matrix = confusion_matrix(y_test, yhat)\n",
    "    \n",
    "    # store the result\n",
    "    svm_acc.append(accuracy_score(y_test, yhat))\n",
    "    svm_F1_score.append(f1_score(y_test, yhat, average='micro'))\n",
    "    svm_roc_auc.append(roc_auc_score(y_test, best_model.predict_proba(X_test), multi_class='ovr'))\n",
    "    svm_conf_matrix_list.append(conf_matrix) "
   ]
  },
  {
   "cell_type": "code",
   "execution_count": 86,
   "id": "011b49b3",
   "metadata": {},
   "outputs": [
    {
     "name": "stdout",
     "output_type": "stream",
     "text": [
      "Wall time: 4h 15min 34s\n"
     ]
    }
   ],
   "source": [
    "%%time\n",
    "# configure the cross-validation procedure\n",
    "cv_outer = StratifiedKFold(n_splits=10, shuffle=True, random_state=rng)\n",
    "\n",
    "# metrics list\n",
    "svm_acc = []\n",
    "svm_F1_score = []\n",
    "svm_roc_auc = []\n",
    "svm_conf_matrix_list = []\n",
    "\n",
    "for train_ix, test_ix in cv_outer.split(X, y):\n",
    "    # split data\n",
    "\n",
    "    X_train, X_test = X[train_ix], X[test_ix]\n",
    "    y_train, y_test = y[train_ix], y[test_ix]\n",
    "    # configure the cross-validation procedure\n",
    "    cv_inner = StratifiedKFold(n_splits=5, shuffle=True, random_state=rng)\n",
    "\n",
    "    # define search space\n",
    "    param_grid = [{\"clf__kernel\": [\"rbf\"], \"clf__gamma\": np.logspace(-5, -2, 4), \"clf__C\": [10, 100, 1000]},\n",
    "                  \n",
    "]\n",
    "\n",
    "    # define search\n",
    "    SVC_gs = GridSearchCV(SVC_pipe, param_grid, cv=cv_inner, n_jobs=-1)\n",
    "    \n",
    "    # execute search\n",
    "    SVC_gs.fit(X_train, y_train)\n",
    "    \n",
    "    # get the best performing model fit on the whole training set\n",
    "    best_model = SVC_gs.best_estimator_\n",
    "    # evaluate model on the test set\n",
    "    yhat = best_model.predict(X_test)\n",
    "    conf_matrix = confusion_matrix(y_test, yhat)\n",
    "    \n",
    "    # store the result\n",
    "    svm_acc.append(accuracy_score(y_test, yhat))\n",
    "    svm_F1_score.append(f1_score(y_test, yhat, average='micro'))\n",
    "    svm_roc_auc.append(roc_auc_score(y_test, best_model.predict_proba(X_test), multi_class='ovr'))\n",
    "    svm_conf_matrix_list.append(conf_matrix) "
   ]
  },
  {
   "cell_type": "code",
   "execution_count": 87,
   "id": "4cb73e9c",
   "metadata": {},
   "outputs": [
    {
     "name": "stdout",
     "output_type": "stream",
     "text": [
      "Mean accuracy: 0.9809219107453437\n",
      "Mean F1-score: 0.9809219107453437\n",
      "Mean AUC: 0.9990782741318991\n"
     ]
    }
   ],
   "source": [
    "print('Mean accuracy:', np.mean(svm_acc))\n",
    "print('Mean F1-score:', np.mean(svm_F1_score))\n",
    "print('Mean AUC:', np.mean(svm_roc_auc))"
   ]
  },
  {
   "cell_type": "code",
   "execution_count": 89,
   "id": "01f28fa3",
   "metadata": {},
   "outputs": [],
   "source": [
    "cm = np.mean(svm_conf_matrix_list, axis=0)"
   ]
  },
  {
   "cell_type": "code",
   "execution_count": 90,
   "id": "8f5ed551",
   "metadata": {},
   "outputs": [
    {
     "data": {
      "image/png": "[encoded data removed]",
      "text/plain": [
       "<Figure size 576x360 with 2 Axes>"
      ]
     },
     "metadata": {
      "needs_background": "light"
     },
     "output_type": "display_data"
    }
   ],
   "source": [
    "plt.figure(figsize = (8,5))\n",
    "sns.heatmap(cm, annot=True, fmt=\".0f\", cmap ='Greys',xticklabels=labels_names, yticklabels=labels_names,\n",
    "           linecolor='k', linewidths=.3)\n",
    "plt.xticks(rotation=65);"
   ]
  }
 ],
 "metadata": {
  "kernelspec": {
   "display_name": "Python 3 (ipykernel)",
   "language": "python",
   "name": "python3"
  },
  "language_info": {
   "codemirror_mode": {
    "name": "ipython",
    "version": 3
   },
   "file_extension": ".py",
   "mimetype": "text/x-python",
   "name": "python",
   "nbconvert_exporter": "python",
   "pygments_lexer": "ipython3",
   "version": "3.9.7"
  }
 },
 "nbformat": 4,
 "nbformat_minor": 5
}
